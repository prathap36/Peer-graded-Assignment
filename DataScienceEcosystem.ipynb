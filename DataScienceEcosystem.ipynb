{
 "cells": [
  {
   "cell_type": "markdown",
   "id": "a27bd7be-2423-459a-ad8d-15c68cf5b23f",
   "metadata": {},
   "source": [
    "# DataScience Tools and Ecosystem"
   ]
  },
  {
   "cell_type": "markdown",
   "id": "80e409ee-9936-42f1-bef6-e66c57820488",
   "metadata": {},
   "source": [
    "In this notebook, Data Science Tools and Ecosystem are summarized."
   ]
  },
  {
   "cell_type": "markdown",
   "id": "d53949da-1841-4a4f-975b-b8eaf44e45ef",
   "metadata": {},
   "source": [
    "Some of the popular languages that Data Scientists use are:\n",
    "\n",
    "1. Python\n",
    "2. R\n",
    "3. SQL\n",
    "4. Java\n",
    "5. Julia"
   ]
  },
  {
   "cell_type": "markdown",
   "id": "f14cbb0a-9773-4f60-81d7-e2157cdaffad",
   "metadata": {},
   "source": [
    "Some of the commonly used libraries used by Data Scientists include:\n",
    "\n",
    "1. TensorFlow\n",
    "2. NumPy\n",
    "3. SciPy\n",
    "4. Pandas\n",
    "5. Matplotlib"
   ]
  },
  {
   "cell_type": "markdown",
   "id": "3a8b30fe-50da-4eca-8ff1-26465a91eef3",
   "metadata": {},
   "source": [
    "Datascience tools:"
   ]
  },
  {
   "cell_type": "markdown",
   "id": "8eb4e97d-1916-40f0-bea1-aaf663f43086",
   "metadata": {},
   "source": [
    "| Datascience tools|\n",
    "|---|\n",
    "|Apache Spark|\n",
    "|BigML|\n",
    "|SAS|"
   ]
  },
  {
   "cell_type": "markdown",
   "id": "8f9f39b7-54be-44c4-a870-8dcfba0b6c07",
   "metadata": {},
   "source": [
    "### Below are a few examples of evaluating arithmetic expressions in Python"
   ]
  },
  {
   "cell_type": "markdown",
   "id": "d30d8ab8-dac0-44c2-b28d-5f4135e0c148",
   "metadata": {},
   "source": [
    "This a simple arithmetic expression to mutiply then add integers"
   ]
  },
  {
   "cell_type": "code",
   "execution_count": 5,
   "id": "d9b5fcda-e425-467d-8240-eecfdb2c1772",
   "metadata": {},
   "outputs": [
    {
     "data": {
      "text/plain": [
       "17"
      ]
     },
     "execution_count": 5,
     "metadata": {},
     "output_type": "execute_result"
    }
   ],
   "source": [
    "(3*4)+5"
   ]
  },
  {
   "cell_type": "markdown",
   "id": "3926813c-036b-49e3-a362-5362c8a1c53a",
   "metadata": {},
   "source": [
    "This will convert 200 minutes to hours by diving by 60"
   ]
  },
  {
   "cell_type": "code",
   "execution_count": 8,
   "id": "c066ad3d-05d8-4bba-bdd0-8e29aa689f65",
   "metadata": {},
   "outputs": [
    {
     "data": {
      "text/plain": [
       "3.3333333333333335"
      ]
     },
     "execution_count": 8,
     "metadata": {},
     "output_type": "execute_result"
    }
   ],
   "source": [
    "minutes=200\n",
    "hours=200/60\n",
    "hours"
   ]
  },
  {
   "cell_type": "markdown",
   "id": "63f52c76-eaee-4396-9ab2-1c4027a1c6f2",
   "metadata": {},
   "source": [
    "# Objectives"
   ]
  },
  {
   "cell_type": "markdown",
   "id": "d001692e-fd95-4e34-8bf8-e100427ccf6d",
   "metadata": {},
   "source": [
    "popular languages for Data Science:"
   ]
  },
  {
   "cell_type": "markdown",
   "id": "5e2fc3ce-1fe3-4883-8965-2a5128263cb6",
   "metadata": {},
   "source": [
    "\n",
    "- Python \n",
    "- R \n",
    "- SQL \n",
    "- Java \n",
    "- Julia"
   ]
  },
  {
   "cell_type": "markdown",
   "id": "962243f6-539b-4cc1-b6ea-e924b79941e8",
   "metadata": {},
   "source": [
    "## Authors:"
   ]
  },
  {
   "cell_type": "markdown",
   "id": "237f46b4-44e5-47c7-8677-6f3406ccb872",
   "metadata": {},
   "source": [
    "PRATHAP M"
   ]
  },
  {
   "cell_type": "code",
   "execution_count": null,
   "id": "64326f14-ff18-4e89-ada4-e0b366bd4b55",
   "metadata": {},
   "outputs": [],
   "source": []
  }
 ],
 "metadata": {
  "kernelspec": {
   "display_name": "Python 3 (ipykernel)",
   "language": "python",
   "name": "python3"
  },
  "language_info": {
   "codemirror_mode": {
    "name": "ipython",
    "version": 3
   },
   "file_extension": ".py",
   "mimetype": "text/x-python",
   "name": "python",
   "nbconvert_exporter": "python",
   "pygments_lexer": "ipython3",
   "version": "3.11.3"
  }
 },
 "nbformat": 4,
 "nbformat_minor": 5
}
